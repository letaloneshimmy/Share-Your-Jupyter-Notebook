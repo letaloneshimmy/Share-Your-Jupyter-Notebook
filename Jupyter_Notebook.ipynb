{
 "cells": [
  {
   "cell_type": "markdown",
   "metadata": {},
   "source": [
    "<center>\n",
    "    <img src=\"https://cf-courses-data.s3.us.cloud-object-storage.appdomain.cloud/IBMDeveloperSkillsNetwork-DS0105EN-SkillsNetwork/labs/Module2/images/SN_web_lightmode.png\" width=\"300\" alt=\"cognitiveclass.ai logo\"  />\n",
    "</center>\n"
   ]
  },
  {
   "cell_type": "markdown",
   "metadata": {},
   "source": [
    "#### Add your code below following the instructions given in the course\n"
   ]
  },
  {
   "cell_type": "markdown",
   "metadata": {
    "tags": []
   },
   "source": [
    "# My Jupyter Notebook on IBM Watson Studio"
   ]
  },
  {
   "cell_type": "markdown",
   "metadata": {},
   "source": [
    " **Curtis Musson**\n",
    " \n",
    "SMP Program Manager"
   ]
  },
  {
   "cell_type": "markdown",
   "metadata": {},
   "source": [
    "*I am interested in data science because reality is hidden in the data.*"
   ]
  },
  {
   "cell_type": "markdown",
   "metadata": {},
   "source": [
    "### 4 To The 10th Power"
   ]
  },
  {
   "cell_type": "code",
   "execution_count": 2,
   "metadata": {},
   "outputs": [
    {
     "data": {
      "text/plain": [
       "1048576"
      ]
     },
     "execution_count": 2,
     "metadata": {},
     "output_type": "execute_result"
    }
   ],
   "source": [
    "4**10"
   ]
  },
  {
   "cell_type": "markdown",
   "metadata": {
    "tags": []
   },
   "source": [
    "PEACE RIVER AT PLATT FL Nutrient Analytes\n",
    "\n",
    "-  N Nitrogen \n",
    "-  P Phosphorus\n",
    "-  K potassium\n",
    "\n",
    " |Year | Analyte | Sample Size |\n",
    "| ------ | ------ | ------ |\n",
    "| 2022 | Nitrogen  | 4 |\n",
    "| 2021 | Nitrogen  | 5 |\n",
    "| 2020 | Nitrogen  | 7 |\n",
    "| 2022 | Phosphorus  | 4 |\n",
    "| 2021 | Phosphorus  | 5 |\n",
    "| 2020 | Phosphorus  | 7 |\n",
    "| 2022 | potassium  | 4 |\n",
    "| 2021 | potassium  | 5 |\n",
    "| 2020 | potassium  | 7 |\n",
    "\n",
    "Data Source\n",
    "<a href=\"https://waterdata.usgs.gov/monitoring-location/02297345/#parameterCode=00065&period=P7D\">USGS Water Quality Dashboard</a>\n"
   ]
  },
  {
   "cell_type": "code",
   "execution_count": null,
   "metadata": {},
   "outputs": [],
   "source": []
  }
 ],
 "metadata": {
  "kernelspec": {
   "display_name": "Python",
   "language": "python",
   "name": "conda-env-python-py"
  },
  "language_info": {
   "codemirror_mode": {
    "name": "ipython",
    "version": 3
   },
   "file_extension": ".py",
   "mimetype": "text/x-python",
   "name": "python",
   "nbconvert_exporter": "python",
   "pygments_lexer": "ipython3",
   "version": "3.7.12"
  }
 },
 "nbformat": 4,
 "nbformat_minor": 4
}
